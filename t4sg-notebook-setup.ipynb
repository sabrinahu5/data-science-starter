{
 "cells": [
  {
   "cell_type": "markdown",
   "metadata": {},
   "source": [
    "# T4SG Data Science Starter Project - Jupyter Notebook Setup\n"
   ]
  },
  {
   "cell_type": "markdown",
   "metadata": {},
   "source": [
    "\n",
    "### [Table of contents](#top)\n",
    "- **1** [Installing Python](#part1)\n",
    "- **2** [Setup Virtual Environments](#part2)\n",
    "- **3** [Setup Kernel](#part3)"
   ]
  },
  {
   "cell_type": "markdown",
   "metadata": {},
   "source": [
    "## Step 1: Check Python Setup <a id=\"part1\"></a>\n",
    "\n",
    "First, check that you have Python installed on your machine, with a version of 3.8 or higher. \n",
    "\n",
    "You can do this in the terminal by running:\n",
    "\n",
    "```sh\n",
    "which python\n",
    "```\n",
    "\n",
    "You'll be shown a path like `/usr/bin/python`. If it was found, you can envoke `python` and ask for its version.\n",
    "\n",
    "```shell\n",
    "python --version\n",
    "```\n",
    "\n",
    "You can also run shell commands from within a Jupyter notebook by prepending a `!`"
   ]
  },
  {
   "cell_type": "code",
   "execution_count": 1,
   "metadata": {},
   "outputs": [
    {
     "name": "stdout",
     "output_type": "stream",
     "text": [
      "Python 3.12.5\n"
     ]
    }
   ],
   "source": [
    "# !command sends `command` to the shell that launched Jupyter\n",
    "!python --version"
   ]
  },
  {
   "cell_type": "markdown",
   "metadata": {},
   "source": [
    "## Step 2: Setup T4SG Virtual Environment <a id=\"part2\"></a>\n",
    "\n",
    "A [virtual environment](https://docs.python.org/3/library/venv.html#venv-def) is an isolated directory structure containing a specific Python version and a set of additional packages. This isolation allows for project-specific dependencies without affecting the system-wide Python installation.\n",
    "\n",
    "Typically, Python distributions come with:\n",
    "* [venv](https://docs.python.org/3/library/venv.html#module-venv) - a tool for creating and managing virtual environments\n",
    "* [pip](https://docs.python.org/3/installing/index.html#installing-index) - a package installer for Python, used to download and manage third-party packages (primarily from PyPI)\n",
    "\n",
    "Package managers like Conda and Micromamba extend the concept of a virtual environment to other languages. See the README for more details on packages managers & virtual environments. \n",
    "\n",
    "Within this folder, we have a `t4sg.yml` file that lists the packages we'll be using for this project --- we will provide a baseline set of packages, but this may be altered by your SSWE/PM depending on specific project functionality. It should be in the same directory as this notebook."
   ]
  },
  {
   "cell_type": "markdown",
   "metadata": {},
   "source": [
    "### 1. Download Miniconda:\n",
    "\n",
    "First, let's download Miniconda if you haven't already. \n",
    "   - Visit the [Miniconda website](https://docs.conda.io/en/latest/miniconda.html)\n",
    "   - Choose the installer for your operating system (Windows, macOS, or Linux) (Note: for macOS users, select the 'pkg' installer, not the 'bash' installer.)\n",
    "   - Follow the instructions on the installer to install Miniconda.\n",
    "\n",
    "### 2. Add Miniconda to your PATH:\n",
    "\n",
    "To add Miniconda to your PATH, follow the instructions specific to your operating system:\n",
    "\n",
    "- **Windows**:\n",
    "  - Open the Start Menu and search for \"Environment Variables\".\n",
    "  - Click on \"Edit the system environment variables\".\n",
    "  - Click on the \"Environment Variables\" button.\n",
    "  - In the \"System variables\" section, find the \"Path\" variable and click \"Edit\".\n",
    "  - Click \"New\" and add the path to your Miniconda installation (e.g., `C:\\Users\\YourUsername\\miniconda3\\bin`).\n",
    "  - Click \"OK\" to save the changes.\n",
    "\n",
    "- **macOS and Linux**:\n",
    "  - Open your terminal.\n",
    "  - Add the following line to your `.bash_profile`, `.zshrc`, or `.profile` file:\n",
    "    ```sh\n",
    "    export PATH=\"/path/to/miniconda3/bin:$PATH\"\n",
    "    ```\n",
    "  - Replace `/path/to/miniconda3/bin` with the actual path to your Miniconda installation.\n",
    "  - Save the file and run `source ~/.bash_profile` (or the appropriate file) to apply the changes.\n",
    "\n",
    "Now, try running `conda --version` in your terminal. If you see the version number, you've successfully added Miniconda to your PATH.\n",
    "\n",
    "### 3. Create the T4SG Environment\n",
    "\n",
    "Next, to instruct miniconda to create a new environment from our T4SGyml specification, run the following in the terminal:\n",
    "``` sh\n",
    "conda env create -f t4sg.yml\n",
    "```\n",
    "\n",
    "Once all the packages have been installed, we can activate our new environment:\n",
    "```sh\n",
    "conda activate t4sg\n",
    "```\n",
    "\n",
    "You'll see your shell prompt now shows your active environment. You can use `deactivate` to turn it off. Remember to always activate your `t4sg` environment before working on your project."
   ]
  },
  {
   "cell_type": "markdown",
   "metadata": {},
   "source": [
    "## Step 3: Setup Kernel <a id=\"part3\"></a>\n",
    "\n",
    "This starter project will be in the form of a [Jupyter Notebook](https://jupyter.org/). They allow for the embedding of runnable code in a document of formatted text. It's recommend that you use Visual Studio Code (VSCode) as your development environment. To use Jupyter Notebooks with VSCode:"
   ]
  },
  {
   "cell_type": "markdown",
   "metadata": {},
   "source": [
    "### 1. Install the \"Jupyter\" extension in VSCode:\n",
    "- Open VSCode.\n",
    "- Go to the Extensions view (Ctrl+Shift+X or Cmd+Shift+X on macOS).\n",
    "- Search for \"Jupyter\".\n",
    "- Install the official Jupyter extension by Microsoft.\n",
    "      \n",
    "After installing the Jupyter extension on VSCode, you should now be able to open or create a Jupyter Notebook by creating an .ipynb file in VSCode.\n",
    "\n",
    "### 2. Adding Virtual Environment as a Kernel\n",
    "\n",
    "Next, to be able to run your notebook, you must make sure to add the T4SG virtual environment as a kernel. Here's how you can find and add your virtual environment to VSCode:\n",
    "- First, activate your virtual environment in the terminal:\n",
    "```sh\n",
    "micromamba activate t4sg\n",
    "```\n",
    "- With the environment activated, run this command to get the path to your Python interpreter:\n",
    "```sh\n",
    "which python\n",
    "```\n",
    "This will output a path like /path/to/your/micromamba/envs/t4sg/bin/python.\n",
    "- In VSCode, open the Command Palette (Cmd+Shift+P on macOS or Ctrl+Shift+P on Windows/Linux). Type \"Python: Select Interpreter\" and choose this option. Click on \"Enter interpreter path...\" at the bottom of the list. Paste the path you got from step 2 into the input box. VSCode should now recognize this as a valid interpreter and add it to your list of available kernels.\n",
    "- Open your Jupyter notebook again and try selecting the kernel. You should now see your 't4sg' environment listed. If you still don't see the environment, you may need to restart VSCode for the changes to take effect.\n",
    "\n",
    "After selecting the t4sg kernel, you should now be able to run a code cell, and have access to all the packages listed in the t4sg.yml file.\n",
    "\n",
    "\n",
    " ### 3. Selecting the Correct Kernel\n",
    "\n",
    "Next, to run your notebook, you must make sure to select the correct kernel. To ensure you're using the correct Python environment (kernel) for your Jupyter Notebook in VSCode:\n",
    "\n",
    "- Open your Jupyter Notebook in VSCode.\n",
    "- Look for the \"Select Kernel\" button in the top-right corner of the notebook.\n",
    "- Click on it and choose the kernel that corresponds to your 't4sg' environment. You may need to choose the 'Select Another Kernel...' option and then go to 'Python Environments...', where you should see the 't4sg' environment listed.\n",
    "4. If you don't see your 't4sg' environment, you may need to restart VSCode or manually add the kernel path (see above).\n",
    "\n",
    "Remember to activate your 't4sg' environment before launching VSCode to ensure it's available as a kernel option.\n",
    "\n",
    " \n",
    "### 4. Running Cells\n",
    "\n",
    "To run a Jupyter Notebook cell in VSCode:\n",
    "- Click inside the cell you want to run\n",
    "- Use the keyboard shortcut:\n",
    "   - Mac: Shift (or Ctrl) + Enter\n",
    "   - Windows: Shift + Enter\n",
    "Alternatively, you can:\n",
    "- Click the \"Run Cell\" play button that appears to the left of the cell\n",
    "- Use the \"Run\" button in the top menu of the notebook\n",
    "\n",
    "When you run a cell, VSCode sends the code to the Jupyter kernel (in this case, the 't4sg' environment we set up). The kernel executes the code and sends the results back to VSCode, which then displays the output below the cell. For code cells, the output will be the result of the last expression or any print statements. For markdown cells, the rendered markdown will be displayed.\n",
    "\n",
    " You can run cells in any order, and variables/functions defined in one cell are available in subsequent cells. This allows for an interactive and iterative coding experience. Try running the cell below to install some key packages that you may use. The primary libraries we will be using are:\n",
    "- numpy: Provides a fast numerical array structure and helper functions.\n",
    "- pandas: Provides a DataFrame structure to store data in memory and work with it easily and efficiently.\n",
    "- scikit-learn: The essential Machine Learning package in Python.\n",
    "- matplotlib: Basic plotting library in Python; most other Python plotting libraries are built on top of it.\n",
    "- seaborn: Advanced statistical plotting library.\n"
   ]
  },
  {
   "cell_type": "code",
   "execution_count": 2,
   "metadata": {},
   "outputs": [],
   "source": [
    "# See the \"import ... as ...\" contructs below: \n",
    "# they're aliases/shortcuts for the package names. As a result, \n",
    "# we can call methods such as plt.plot() instead of matplotlib.pyplot.plot()\n",
    "import numpy as np\n",
    "from scipy import stats\n",
    "import pandas as pd\n",
    "import matplotlib.pyplot as plt\n",
    "import seaborn as sns"
   ]
  }
 ],
 "metadata": {
  "kernelspec": {
   "display_name": "Python 3",
   "language": "python",
   "name": "python3"
  },
  "language_info": {
   "codemirror_mode": {
    "name": "ipython",
    "version": 3
   },
   "file_extension": ".py",
   "mimetype": "text/x-python",
   "name": "python",
   "nbconvert_exporter": "python",
   "pygments_lexer": "ipython3",
   "version": "3.12.5"
  },
  "orig_nbformat": 4
 },
 "nbformat": 4,
 "nbformat_minor": 2
}
